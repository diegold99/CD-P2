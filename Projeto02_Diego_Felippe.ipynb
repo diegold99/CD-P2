{
 "cells": [
  {
   "cell_type": "markdown",
   "metadata": {},
   "source": [
    "# Projeto 2 - Classificador Automático de Sentimento\n",
    "\n",
    "Você foi contratado por uma empresa parar analisar como os clientes estão reagindo a um determinado produto no Twitter. A empresa deseja que você crie um programa que irá analisar as mensagens disponíveis e classificará como \"relevante\" ou \"irrelevante\". Com isso ela deseja que mensagens negativas, que denigrem o nome do produto, ou que mereçam destaque, disparem um foco de atenção da área de marketing.<br /><br />\n",
    "Como aluno de Ciência dos Dados, você lembrou do Teorema de Bayes, mais especificamente do Classificador Naive-Bayes, que é largamente utilizado em filtros anti-spam de e-mails. O classificador permite calcular qual a probabilidade de uma mensagem ser relevante dadas as palavras em seu conteúdo.<br /><br />\n",
    "Para realizar o MVP (*minimum viable product*) do projeto, você precisa implementar uma versão do classificador que \"aprende\" o que é relevante com uma base de treinamento e compara a performance dos resultados com uma base de testes.<br /><br />\n",
    "Após validado, o seu protótipo poderá também capturar e classificar automaticamente as mensagens da plataforma.\n",
    "\n",
    "## Informações do Projeto\n",
    "\n",
    "Prazo: 13/Set até às 23:59.<br />\n",
    "Grupo: 1 ou 2 pessoas.<br /><br />\n",
    "Entregáveis via GitHub: \n",
    "* Arquivo notebook com o código do classificador, seguindo as orientações abaixo.\n",
    "* Arquivo Excel com as bases de treinamento e teste totalmente classificado.\n",
    "\n",
    "**NÃO disponibilizar o arquivo com os *access keys/tokens* do Twitter.**\n",
    "\n",
    "\n",
    "### Check 3: \n",
    "\n",
    "Até o dia 06 de Setembro às 23:59, o notebook e o xlsx devem estar no Github com as seguintes evidências: \n",
    "    * Conta no twitter criada.\n",
    "    * Produto escolhido.\n",
    "    * Arquivo Excel contendo a base de treinamento e teste já classificado.\n",
    "    \n",
    "\n",
    "Sugestão de leitura:<br />\n",
    "http://docs.tweepy.org/en/v3.5.0/index.html<br />\n",
    "https://monkeylearn.com/blog/practical-explanation-naive-bayes-classifier/"
   ]
  },
  {
   "cell_type": "markdown",
   "metadata": {},
   "source": [
    "___\n",
    "\n",
    "## Preparando o ambiente\n",
    "\n",
    "Instalando a biblioteca *tweepy* para realizar a conexão com o Twitter:"
   ]
  },
  {
   "cell_type": "code",
   "execution_count": 1,
   "metadata": {
    "collapsed": true
   },
   "outputs": [],
   "source": [
    "%%capture\n",
    "\n",
    "#Instalando o tweepy\n",
    "!pip install tweepy"
   ]
  },
  {
   "cell_type": "markdown",
   "metadata": {},
   "source": [
    "Importando as Bibliotecas que serão utilizadas. Esteja livre para adicionar outras."
   ]
  },
  {
   "cell_type": "code",
   "execution_count": 2,
   "metadata": {
    "collapsed": true
   },
   "outputs": [],
   "source": [
    "import tweepy\n",
    "import math\n",
    "import os.path\n",
    "import pandas as pd\n",
    "import json\n",
    "from random import shuffle\n",
    "import mpmath"
   ]
  },
  {
   "cell_type": "markdown",
   "metadata": {},
   "source": [
    "___\n",
    "## Autenticando no  Twitter\n",
    "\n",
    "Para realizar a captura dos dados é necessário ter uma conta cadastrada no twitter:\n",
    "\n",
    "* Conta: ***@Juninho_Gari***\n",
    "\n",
    "\n",
    "1. Caso ainda não tenha uma: https://twitter.com/signup\n",
    "1. Depois é necessário registrar um app para usar a biblioteca: https://apps.twitter.com/\n",
    "1. Dentro do registro do App, na aba Keys and Access Tokens, anotar os seguintes campos:\n",
    "    1. Consumer Key (API Key)\n",
    "    1. Consumer Secret (API Secret)\n",
    "1. Mais abaixo, gere um Token e anote também:\n",
    "    1. Access Token\n",
    "    1. Access Token Secret\n",
    "    \n",
    "1. Preencha os valores no arquivo \"auth.pass\"\n",
    "\n",
    "**ATENÇÃO**: Nunca divulgue os dados desse arquivo online (GitHub, etc). Ele contém as chaves necessárias para realizar as operações no twitter de forma automática e portanto é equivalente a ser \"hackeado\". De posse desses dados, pessoas mal intencionadas podem fazer todas as operações manuais (tweetar, seguir, bloquear/desbloquear, listar os seguidores, etc). Para efeito do projeto, esse arquivo não precisa ser entregue!!!"
   ]
  },
  {
   "cell_type": "code",
   "execution_count": 3,
   "metadata": {
    "collapsed": true
   },
   "outputs": [],
   "source": [
    "#Dados de autenticação do twitter:\n",
    "\n",
    "#Coloque aqui o identificador da conta no twitter: @fulano\n",
    "\n",
    "#leitura do arquivo no formato JSON\n",
    "with open('auth.pass') as fp:    \n",
    "    data = json.load(fp)\n",
    "\n",
    "#Configurando a biblioteca. Não modificar\n",
    "auth = tweepy.OAuthHandler(data['consumer_key'], data['consumer_secret'])\n",
    "auth.set_access_token(data['access_token'], data['access_token_secret'])"
   ]
  },
  {
   "cell_type": "markdown",
   "metadata": {},
   "source": [
    "___\n",
    "## Coletando Dados\n",
    "\n",
    "Agora vamos coletar os dados. Tenha em mente que dependendo do produto escolhido, não haverá uma quantidade significativa de mensagens, ou ainda poder haver muitos retweets.<br /><br /> \n",
    "Configurando:"
   ]
  },
  {
   "cell_type": "code",
   "execution_count": 4,
   "metadata": {
    "collapsed": true
   },
   "outputs": [],
   "source": [
    "#Produto escolhido:\n",
    "produto = 'Uber'\n",
    "\n",
    "#Quantidade mínima de mensagens capturadas:\n",
    "n = 500\n",
    "#Quantidade mínima de mensagens para a base de treinamento:\n",
    "t = 300\n",
    "\n",
    "#Filtro de língua, escolha uma na tabela ISO 639-1.\n",
    "lang = 'pt'"
   ]
  },
  {
   "cell_type": "markdown",
   "metadata": {},
   "source": [
    "Capturando os dados do twitter:"
   ]
  },
  {
   "cell_type": "code",
   "execution_count": 5,
   "metadata": {
    "collapsed": true
   },
   "outputs": [],
   "source": [
    "#Cria um objeto para a captura\n",
    "api = tweepy.API(auth)\n",
    "\n",
    "#Inicia a captura, para mais detalhes: ver a documentação do tweepy\n",
    "i = 1\n",
    "msgs = []\n",
    "for msg in tweepy.Cursor(api.search, q=produto, lang=lang).items():    \n",
    "    msgs.append(msg.text.lower())\n",
    "    i += 1\n",
    "    if i > n:\n",
    "        break\n",
    "\n",
    "#Embaralhando as mensagens para reduzir um possível viés\n",
    "shuffle(msgs)"
   ]
  },
  {
   "cell_type": "markdown",
   "metadata": {},
   "source": [
    "Salvando os dados em uma planilha Excel:"
   ]
  },
  {
   "cell_type": "code",
   "execution_count": 6,
   "metadata": {
    "collapsed": true
   },
   "outputs": [],
   "source": [
    "#Verifica se o arquivo não existe para não substituir um conjunto pronto\n",
    "if not os.path.isfile('./{0}.xlsx'.format(produto)):\n",
    "    \n",
    "    #Abre o arquivo para escrita\n",
    "    writer = pd.ExcelWriter('{0}.xlsx'.format(produto))\n",
    "\n",
    "    #divide o conjunto de mensagens em duas planilhas\n",
    "    dft = pd.DataFrame({'Treinamento' : pd.Series(msgs[:t])})\n",
    "    dft.to_excel(excel_writer = writer, sheet_name = 'Treinamento', index = False)\n",
    "\n",
    "    dfc = pd.DataFrame({'Teste' : pd.Series(msgs[t:])})\n",
    "    dfc.to_excel(excel_writer = writer, sheet_name = 'Teste', index = False)\n",
    "\n",
    "    #fecha o arquivo\n",
    "    writer.save()"
   ]
  },
  {
   "cell_type": "markdown",
   "metadata": {},
   "source": [
    "___\n",
    "## Classificando as Mensagens\n",
    "\n",
    "Agora você deve abrir o arquivo Excel com as mensagens capturadas e classificar na Coluna B se a mensagem é relevante ou não.<br /> \n",
    "Não se esqueça de colocar um nome para a coluna na célula **B1**.<br /><br />\n",
    "Fazer o mesmo na planilha de Controle.\n",
    "\n",
    "___\n",
    "## Montando o Classificador Naive-Bayes\n",
    "\n",
    "Com a base de treinamento montada, comece a desenvolver o classificador. Escreva o seu código abaixo:\n",
    "\n",
    "Opcionalmente: \n",
    "* Limpar as mensagens removendo os caracteres: enter, :, \", ', (, ), etc. Não remover emojis.<br />\n",
    "* Corrigir separação de espaços entre palavras e/ou emojis.\n",
    "* Propor outras limpezas/transformações que não afetem a qualidade da informação.\n",
    "\n"
   ]
  },
  {
   "cell_type": "code",
   "execution_count": 7,
   "metadata": {
    "collapsed": true
   },
   "outputs": [],
   "source": [
    "%matplotlib inline\n",
    "import pandas as pd\n",
    "from mpmath import mpf\n",
    "import matplotlib.pyplot as plt\n",
    "import numpy as np\n",
    "import os"
   ]
  },
  {
   "cell_type": "code",
   "execution_count": 8,
   "metadata": {
    "collapsed": true
   },
   "outputs": [],
   "source": [
    "# Lendo o Excel\n",
    "d_treino = pd.read_excel(\"Uber.xlsx\", \"Treinamento\", sep=\",\")\n",
    "d_treino = pd.read_excel(\"Uber.xlsx\", sheetname = \"Treinamento\")\n",
    "d_treino = d_treino.loc[:,[\"Treinamento\", \"CLASS\"]]\n"
   ]
  },
  {
   "cell_type": "code",
   "execution_count": 9,
   "metadata": {
    "collapsed": true
   },
   "outputs": [],
   "source": [
    "# Value Counts\n",
    "value_treino = d_treino.CLASS.value_counts(True)"
   ]
  },
  {
   "cell_type": "code",
   "execution_count": 10,
   "metadata": {},
   "outputs": [],
   "source": [
    "# Probabilidade Relevante\n",
    "prob_rel = value_treino.loc[\"R\"]\n"
   ]
  },
  {
   "cell_type": "code",
   "execution_count": 11,
   "metadata": {},
   "outputs": [],
   "source": [
    "# Probabilidade Irrelevante\n",
    "prob_irrel = value_treino.loc[\"I\"]\n"
   ]
  },
  {
   "cell_type": "code",
   "execution_count": 12,
   "metadata": {
    "collapsed": true
   },
   "outputs": [],
   "source": [
    "# String Completa\n",
    "tweet_completo = np.sum(d_treino.Treinamento + \" \")\n",
    "tweet_completo_rel = np.sum(d_treino[d_treino.CLASS ==\"R\"].Treinamento + \" \")\n",
    "tweet_completo_irrel = np.sum(d_treino[d_treino.CLASS ==\"I\"].Treinamento + \" \")\n",
    "\n",
    "# Quantidade de Strings\n",
    "nt_rel = len(d_treino[d_treino.CLASS == \"R\"])\n",
    "nt_irrel = len(d_treino[d_treino.CLASS == \"I\"])\n",
    "nt_tot = nt_rel + nt_irrel"
   ]
  },
  {
   "cell_type": "code",
   "execution_count": 13,
   "metadata": {
    "collapsed": true
   },
   "outputs": [],
   "source": [
    "# Limpeza de Strings\n",
    "import string\n",
    "\n",
    "remover = set(string.punctuation)\n",
    "\n",
    "def Limpeza(tweet_completo):\n",
    "    tweet_completo = tweet_completo.split()\n",
    "    lista = []\n",
    "    for i in tweet_completo:\n",
    "        for x in i:\n",
    "            if x in remover:\n",
    "                i = i.replace(x, \"\")\n",
    "        lista.append(i)\n",
    "    return lista\n",
    "\n",
    "rel_limpo = Limpeza(tweet_completo_rel)\n",
    "irrel_limpo = Limpeza(tweet_completo_irrel)"
   ]
  },
  {
   "cell_type": "code",
   "execution_count": 14,
   "metadata": {
    "collapsed": true
   },
   "outputs": [],
   "source": [
    "p_rel = pd.Series(rel_limpo)\n",
    "p_irrel = pd.Series(irrel_limpo)\n",
    "p_tot = pd.Series(rel_limpo + irrel_limpo)"
   ]
  },
  {
   "cell_type": "code",
   "execution_count": 15,
   "metadata": {
    "collapsed": true
   },
   "outputs": [],
   "source": [
    "p_dif = len(p_tot.value_counts())\n",
    "\n",
    "p_dif_rel = len(p_rel.value_counts())\n",
    "p_dif_irrel = len(p_irrel.value_counts())\n"
   ]
  },
  {
   "cell_type": "code",
   "execution_count": 16,
   "metadata": {
    "collapsed": true
   },
   "outputs": [],
   "source": [
    "n_p_dif_rel = (p_rel.value_counts())\n",
    "n_p_dif_irrel = (p_irrel.value_counts())\n",
    "n_p_dif_tot = (p_tot.value_counts())"
   ]
  },
  {
   "cell_type": "markdown",
   "metadata": {},
   "source": [
    "# Classificador"
   ]
  },
  {
   "cell_type": "markdown",
   "metadata": {},
   "source": [
    "## Irrelevante"
   ]
  },
  {
   "cell_type": "code",
   "execution_count": 17,
   "metadata": {},
   "outputs": [],
   "source": [
    "lista_p_irrel = []\n",
    "lista_pb_irrel = []\n",
    "\n",
    "# Bayes (Irrelevante)\n",
    "\n",
    "for palavra in n_p_dif_irrel.index:\n",
    "    \n",
    "    pb_irrel = ( n_p_dif_irrel[palavra] + 1) / ( len(p_irrel) + p_dif)\n",
    "    lista_p_irrel.append(palavra)\n",
    "    lista_pb_irrel.append(pb_irrel)\n",
    "    \n",
    "dic_irrel = dict()\n",
    "\n",
    "# Colocando as palavras em um dicionario com suas probabilidades\n",
    "\n",
    "def Dic(lista_p, lista_pb, dic):\n",
    "    for i in range(len(lista_p)):\n",
    "        dic[lista_p[i]] = lista_pb[i]\n",
    "    return(dic)\n",
    "\n",
    "pb_p_irrel = Dic(lista_p_irrel, lista_pb_irrel, dic_irrel)\n",
    "\n"
   ]
  },
  {
   "cell_type": "markdown",
   "metadata": {},
   "source": [
    "## Relevante"
   ]
  },
  {
   "cell_type": "code",
   "execution_count": 18,
   "metadata": {},
   "outputs": [],
   "source": [
    "lista_p_rel = []\n",
    "lista_pb_rel = []\n",
    "\n",
    "# Bayes (Relevante)\n",
    "\n",
    "for palavra in n_p_dif_rel.index: \n",
    "    pb_rel = ( n_p_dif_rel[palavra] + 1) / ( len(p_rel) + p_dif)\n",
    "    lista_p_rel.append(palavra)\n",
    "    lista_pb_rel.append(pb_rel)\n",
    "    \n",
    "dic_rel = dict()\n",
    "\n",
    "pb_p_rel = Dic(lista_p_rel, lista_pb_rel, dic_rel)\n"
   ]
  },
  {
   "cell_type": "markdown",
   "metadata": {},
   "source": [
    "## Total (Funções)"
   ]
  },
  {
   "cell_type": "code",
   "execution_count": 19,
   "metadata": {
    "scrolled": false
   },
   "outputs": [],
   "source": [
    "\n",
    "def Prob_Tot(Tweet, dic, p_irrel, p_rel, p_dif):\n",
    "    Tweet=Tweet.split()\n",
    "    lista=[]\n",
    "    ProbF = mpmath.mpf(1.000)\n",
    "    if dic == pb_p_rel:\n",
    "        for p in Tweet:  \n",
    "            if p in dic:\n",
    "                ProbF = ProbF * dic[p]\n",
    "            else:\n",
    "                ProbF = ProbF * ((1) / ( len(p_irrel) + p_dif))               \n",
    "    else:\n",
    "        for p in Tweet:  \n",
    "            if p in dic:\n",
    "                ProbF = ProbF * dic[p]\n",
    "            else:\n",
    "                ProbF = ProbF * ((1) / ( len(p_rel) + p_dif))\n",
    "    return ProbF\n",
    "\n",
    "                          \n",
    "def Comparacao(Prob_Tot, Tweet, dic_rev, dic_irrev, p_irrel, p_rel, p_dif):\n",
    "    Relev = Prob_Tot(Tweet, dic_rev, p_irrel, p_rel, p_dif)\n",
    "    Irrelev = Prob_Tot(Tweet, dic_irrev, p_irrel, p_rel, p_dif)\n",
    "    if Relev>Irrelev:\n",
    "        d_teste.loc[(d_teste.Teste == Tweet), 'Classificador'] = 'R'\n",
    "    elif Relev == Irrelev:\n",
    "        d_teste.loc[(d_teste.Teste == Tweet), 'Classificador'] = 'Indefinido'\n",
    "    else:\n",
    "        d_teste.loc[(d_teste.Teste == Tweet), 'Classificador'] = 'I'\n",
    "        \n"
   ]
  },
  {
   "cell_type": "markdown",
   "metadata": {},
   "source": [
    "___\n",
    "## Verificando a performance\n",
    "\n",
    "Agora você deve testar o seu Classificador com a base de Testes.<br /><br /> \n",
    "\n",
    "Você deve extrair as seguintes medidas:\n",
    "* Porcentagem de positivos falsos (marcados como relevante mas não são relevantes)\n",
    "* Porcentagem de positivos verdadeiros (marcado como relevante e são relevantes)\n",
    "* Porcentagem de negativos verdadeiros (marcado como não relevante e não são relevantes)\n",
    "* Porcentagem de negativos falsos (marcado como não relevante e são relevantes)\n",
    "\n",
    "Opcionalmente:\n",
    "* Criar categorias intermediárias de relevância baseado na diferença de probabilidades. Exemplo: muito relevante, relevante, neutro, irrelevante e muito irrelevante."
   ]
  },
  {
   "cell_type": "code",
   "execution_count": 20,
   "metadata": {},
   "outputs": [],
   "source": [
    "# Lendo o Excel\n",
    "d_teste = pd.read_excel(\"Uber.xlsx\", \"Teste\", sep=\",\")\n",
    "d_teste = pd.read_excel(\"Uber.xlsx\", sheetname = \"Teste\")\n",
    "d_teste = d_teste.loc[:,[\"Teste\", \"CLASS\", \"Classificador\", \"Verificacao\"]]\n"
   ]
  },
  {
   "cell_type": "code",
   "execution_count": 21,
   "metadata": {
    "collapsed": true
   },
   "outputs": [],
   "source": [
    "# Value Counts\n",
    "value_teste = d_teste.CLASS.value_counts(True)"
   ]
  },
  {
   "cell_type": "code",
   "execution_count": 22,
   "metadata": {},
   "outputs": [
    {
     "data": {
      "text/plain": [
       "0.28999999999999998"
      ]
     },
     "execution_count": 22,
     "metadata": {},
     "output_type": "execute_result"
    }
   ],
   "source": [
    "# Probabilidade Relevante\n",
    "prob_rel = value_teste.loc[\"R\"]\n",
    "prob_rel"
   ]
  },
  {
   "cell_type": "code",
   "execution_count": 23,
   "metadata": {},
   "outputs": [
    {
     "data": {
      "text/plain": [
       "0.70999999999999996"
      ]
     },
     "execution_count": 23,
     "metadata": {},
     "output_type": "execute_result"
    }
   ],
   "source": [
    "# Probabilidade Irrelevante\n",
    "prob_irrel = value_teste.loc[\"I\"]\n",
    "prob_irrel"
   ]
  },
  {
   "cell_type": "code",
   "execution_count": 24,
   "metadata": {},
   "outputs": [
    {
     "name": "stderr",
     "output_type": "stream",
     "text": [
      "/Users/adesktop/anaconda/lib/python3.6/site-packages/ipykernel_launcher.py:3: UserWarning: Boolean Series key will be reindexed to match DataFrame index.\n",
      "  This is separate from the ipykernel package so we can avoid doing imports until\n"
     ]
    }
   ],
   "source": [
    "# String Completa\n",
    "tweet_completo = np.sum(d_teste.Teste + \" \")\n",
    "tweet_completo_rel = np.sum(d_teste[d_treino.CLASS ==\"R\"].Teste + \" \")\n",
    "tweet_completo_irrel = np.sum(d_teste[d_teste.CLASS ==\"I\"].Teste + \" \")\n",
    "\n",
    "# Quantidade de Strings\n",
    "nt_rel = len(d_teste[d_teste.CLASS == \"R\"])\n",
    "nt_irrel = len(d_teste[d_teste.CLASS == \"I\"])\n",
    "nt_tot = nt_rel + nt_irrel\n"
   ]
  },
  {
   "cell_type": "code",
   "execution_count": 25,
   "metadata": {},
   "outputs": [],
   "source": [
    "# Limpeza de Strings\n",
    "\n",
    "rel_limpo = Limpeza(tweet_completo_rel)\n",
    "irrel_limpo = Limpeza(tweet_completo_irrel)\n"
   ]
  },
  {
   "cell_type": "code",
   "execution_count": 26,
   "metadata": {
    "collapsed": true
   },
   "outputs": [],
   "source": [
    "p_rel = pd.Series(rel_limpo)\n",
    "p_irrel = pd.Series(irrel_limpo)\n",
    "p_tot = pd.Series(rel_limpo + irrel_limpo)"
   ]
  },
  {
   "cell_type": "code",
   "execution_count": 27,
   "metadata": {
    "collapsed": true
   },
   "outputs": [],
   "source": [
    "p_dif = len(p_tot.value_counts())\n",
    "\n",
    "p_dif_rel = len(p_rel.value_counts())\n",
    "p_dif_irrel = len(p_irrel.value_counts())"
   ]
  },
  {
   "cell_type": "code",
   "execution_count": 28,
   "metadata": {
    "collapsed": true
   },
   "outputs": [],
   "source": [
    "n_p_dif_rel = (p_rel.value_counts())\n",
    "n_p_dif_irrel = (p_irrel.value_counts())\n",
    "n_p_dif_tot = (p_tot.value_counts())"
   ]
  },
  {
   "cell_type": "code",
   "execution_count": 29,
   "metadata": {
    "collapsed": true
   },
   "outputs": [],
   "source": [
    "lista_p_irrel = []\n",
    "lista_pb_irrel = []\n",
    "\n",
    "# Bayes (Irrelevante)\n",
    "\n",
    "for palavra in n_p_dif_irrel.index:\n",
    "    \n",
    "    pb_irrel = ( n_p_dif_irrel[palavra] + 1) / ( len(p_irrel) + p_dif)\n",
    "    lista_p_irrel.append(palavra)\n",
    "    lista_pb_irrel.append(pb_irrel)\n",
    "    \n",
    "dic_irrel = dict()\n",
    "\n",
    "# Colocando as palavras em um dicionario com suas probabilidades\n",
    "\n",
    "pb_p_irrel = Dic(lista_p_irrel, lista_pb_irrel, dic_irrel)"
   ]
  },
  {
   "cell_type": "code",
   "execution_count": 30,
   "metadata": {
    "collapsed": true
   },
   "outputs": [],
   "source": [
    "lista_p_rel = []\n",
    "lista_pb_rel = []\n",
    "\n",
    "# Bayes (Relevante)\n",
    "\n",
    "for palavra in n_p_dif_rel.index: \n",
    "    pb_rel = ( n_p_dif_rel[palavra] + 1) / ( len(p_rel) + p_dif)\n",
    "    lista_p_rel.append(palavra)\n",
    "    lista_pb_rel.append(pb_rel)\n",
    "    \n",
    "dic_rel = dict()\n",
    "\n",
    "pb_p_rel = Dic(lista_p_rel, lista_pb_rel, dic_rel)\n"
   ]
  },
  {
   "cell_type": "code",
   "execution_count": 31,
   "metadata": {},
   "outputs": [],
   "source": [
    "for x in d_teste.Teste:\n",
    "    Comp = Comparacao(Prob_Tot, x, dic_rel, dic_irrel, p_irrel, p_rel, p_dif)\n",
    "    #print(Comp)\n"
   ]
  },
  {
   "cell_type": "code",
   "execution_count": 32,
   "metadata": {},
   "outputs": [],
   "source": [
    "d_teste.loc[(d_teste.CLASS == 'R') & (d_teste.Classificador == 'R' ), 'Verificacao'] = 'Positivo Verdadeiro'\n",
    "d_teste.loc[(d_teste.CLASS == 'R') & (d_teste.Classificador == 'I' ), 'Verificacao'] = 'Negativo Falso'\n",
    "d_teste.loc[(d_teste.CLASS == 'I') & (d_teste.Classificador == 'R' ), 'Verificacao'] = 'Positivo Falso'\n",
    "d_teste.loc[(d_teste.CLASS == 'I') & (d_teste.Classificador == 'I' ), 'Verificacao'] = 'Negativo Verdadeiro'"
   ]
  },
  {
   "cell_type": "code",
   "execution_count": 33,
   "metadata": {
    "scrolled": true
   },
   "outputs": [
    {
     "data": {
      "text/plain": [
       "Negativo Verdadeiro    64.0\n",
       "Negativo Falso         24.0\n",
       "Positivo Falso          7.0\n",
       "Positivo Verdadeiro     5.0\n",
       "Name: Verificacao, dtype: float64"
      ]
     },
     "execution_count": 33,
     "metadata": {},
     "output_type": "execute_result"
    }
   ],
   "source": [
    "d_teste.Verificacao.value_counts(True)*100"
   ]
  },
  {
   "cell_type": "code",
   "execution_count": 34,
   "metadata": {},
   "outputs": [
    {
     "data": {
      "text/plain": [
       "<matplotlib.text.Text at 0x10ee82f60>"
      ]
     },
     "execution_count": 34,
     "metadata": {},
     "output_type": "execute_result"
    },
    {
     "data": {
      "image/png": "[encoded data removed]",
      "text/plain": [
       "<matplotlib.figure.Figure at 0x10ee8f2e8>"
      ]
     },
     "metadata": {},
     "output_type": "display_data"
    }
   ],
   "source": [
    "adim = d_teste.Verificacao.value_counts()\n",
    "adim.plot(kind='pie', autopct=\"%.2f\",legend=False)\n",
    "plt.title('Verificação')"
   ]
  },
  {
   "cell_type": "code",
   "execution_count": null,
   "metadata": {
    "collapsed": true
   },
   "outputs": [],
   "source": []
  },
  {
   "cell_type": "markdown",
   "metadata": {
    "collapsed": true
   },
   "source": [
    "___\n",
    "## Concluindo\n"
   ]
  },
  {
   "cell_type": "markdown",
   "metadata": {
    "collapsed": true
   },
   "source": [
    "   A partir dos resultados, podemos inferir que o Classificador não é totalmente eficiente, porém tem uma grande porcetagem de acerto e consegue refletir com precisão satisfatória se um tweet é relevante ou não, como no caso do teste, em que o Classificador teve uma taxa de sucesso de 69%.\n",
    "   \n",
    "   Analisando as porcentagens obtidas, foi possível perceber que o Classificador tem mais facilidade em dizer se um tweet é irrelevante, visto que acertou 87,7% deste tipo de tweet, enquato acertou apenas 17,2% dos tweets relevantes.\n",
    "   \n",
    "   Mensagens com tom figurativo, sendo sarcasmo e dupla negação exemplos, são tratadas da mesma forma que todas as outras, o que interfere no resultado, porém com o código atual não foi possível discerní-las.\n",
    "   \n",
    "   Para uma próxima versão do classificador, a fim de deixá-lo mais eficiente, o programa seria capaz de diferenciar mensagens sarcásticas ou com dupla negação, e seriam removidas palvras de pouca importância, como \"a\", \"e\", \"ou\", etc. Além disso, haveria um agrupamento de palavras de significado semelhante, como \"Uber\", \"UberBrasil\", \"UberEats\", etc.\n",
    "   "
   ]
  },
  {
   "cell_type": "code",
   "execution_count": null,
   "metadata": {
    "collapsed": true
   },
   "outputs": [],
   "source": []
  }
 ],
 "metadata": {
  "kernelspec": {
   "display_name": "Python 3",
   "language": "python",
   "name": "python3"
  },
  "language_info": {
   "codemirror_mode": {
    "name": "ipython",
    "version": 3
   },
   "file_extension": ".py",
   "mimetype": "text/x-python",
   "name": "python",
   "nbconvert_exporter": "python",
   "pygments_lexer": "ipython3",
   "version": "3.6.1"
  }
 },
 "nbformat": 4,
 "nbformat_minor": 1
}
